{
 "cells": [
  {
   "cell_type": "code",
   "execution_count": 44,
   "metadata": {
    "collapsed": true
   },
   "outputs": [],
   "source": [
    "from scipy.special import jn\n",
    "import numpy as np"
   ]
  },
  {
   "cell_type": "markdown",
   "metadata": {},
   "source": [
    "## May 3 2016 to ~"
   ]
  },
  {
   "cell_type": "markdown",
   "metadata": {},
   "source": [
    "This is the research notes for stimulated neutrino oscillations."
   ]
  },
  {
   "cell_type": "markdown",
   "metadata": {},
   "source": [
    "- Check the length scales and energy scales.\n",
    "    - Should calculate the case both density profile bellow MSW resonance density and above it."
   ]
  },
  {
   "cell_type": "markdown",
   "metadata": {},
   "source": [
    "**TOC**\n",
    "\n",
    "- [May 3 2016](#May-3-2016)\n",
    "    - [Low density-DEPRECATED Due to the misusage of mixing angles](#Low-density-DEPRECATED-Due-to-the-misusage-of-mixing-angles)\n",
    "    - [Larger Density](#LARGER-DENSITY)\n",
    "    - [What are the changes due to background matter profile?](#What-are-the-changes-due-to-background-matter-profile?)\n",
    "- [May 4 2016](#May-4-2016)"
   ]
  },
  {
   "cell_type": "markdown",
   "metadata": {},
   "source": [
    "### May 3 2016"
   ]
  },
  {
   "cell_type": "markdown",
   "metadata": {},
   "source": [
    "Matter profile to use?"
   ]
  },
  {
   "cell_type": "markdown",
   "metadata": {},
   "source": []
  },
  {
   "cell_type": "markdown",
   "metadata": {},
   "source": [
    "#### Low density-DEPRECATED Due to the misusage of mixing angles"
   ]
  },
  {
   "cell_type": "markdown",
   "metadata": {},
   "source": [
    "* For smaller density, $\\delta m_{12}^2$ , and $\\lambda \\sim 0.1 \\lambda_{\\mathrm{MSW}}$.\n",
    "* Perturbation is $0.1\\lambda$"
   ]
  },
  {
   "cell_type": "markdown",
   "metadata": {},
   "source": [
    "```\n",
    "\n",
    "omegaV = 3.75*10^(-17)(*MeV*);(*For MeV neutrinos*)\n",
    "thetaV = ArcSin[Sqrt[0.3]/2]; (*This is atmospheric*)\n",
    "\n",
    "lambdaN = 0.1 Cos[2 thetaV] omegaV\n",
    "\n",
    "thetamN = Pi/6;\n",
    "phiN = 0;\n",
    "kN = 0.995;\n",
    "aN = 0.1*lambdaN/\n",
    "    OmegaMatter[thetamN, thetaV, omegaV](*(kN)^(-5/3)*); \n",
    "endpointN = 800;\n",
    "init = {psi1[0], psi2[0]} == {1, 0};\n",
    "kN0 = 0;\n",
    "aN0 = 0;\n",
    "```"
   ]
  },
  {
   "cell_type": "markdown",
   "metadata": {
    "collapsed": true,
    "slideshow": {
     "slide_type": "-"
    }
   },
   "source": [
    "![](assets/single-frequency-small-density.svg)"
   ]
  },
  {
   "cell_type": "markdown",
   "metadata": {
    "collapsed": true
   },
   "source": [
    "![](assets/resonance-required-fluctuation-small-density.svg)"
   ]
  },
  {
   "cell_type": "markdown",
   "metadata": {},
   "source": [
    "For supernova 2 sec after bounce, the relevant energy is [0MeV,5MeV]?\n",
    "\n",
    "However, at least for single frequency matter perturbation profile, the oscillation length is much larger than the supernova itself and it can be calculated. The oscillation wavelength at resonance is given be the coefficient in Hamiltonian and also $nk-1$.\n",
    "\n",
    "\\begin{align}\n",
    "q&= \\sqrt{ \\left(n k \\tan 2\\theta_m J_n \\left(\\frac{A}{k}\\cos 2\\theta_m \\right) \\right)^2 + (n k - \\omega_m)^2}\\\\\n",
    "& = \\sqrt{ 0.39 (nk)^2 J_n\\left( \\frac{0.0081}{\\hat k} \\right)^2 + (n \\hat k -1)^2 }\n",
    "\\end{align}"
   ]
  },
  {
   "cell_type": "markdown",
   "metadata": {},
   "source": [
    "![](assets/single-frequency-q-k-relation.svg)"
   ]
  },
  {
   "cell_type": "markdown",
   "metadata": {
    "collapsed": true
   },
   "source": [
    "Just as what we did to muti-frequency we define the Q value as\n",
    "\n",
    "$$Q = (nk-\\omega_m)/\\lvert B_n \\rvert$$\n",
    "\n",
    "What's special about single frequency is that Q values can go up to a huge value while the approximation is still working."
   ]
  },
  {
   "cell_type": "markdown",
   "metadata": {
    "collapsed": true
   },
   "source": [
    "#### LARGER DENSITY"
   ]
  },
  {
   "cell_type": "markdown",
   "metadata": {},
   "source": [
    "##### 10 MSW"
   ]
  },
  {
   "cell_type": "markdown",
   "metadata": {},
   "source": [
    "Change background matter density to 10 times of MSW resonance density.\n",
    "\n",
    "```\n",
    "deltamsquare13 = 2.6*10^(-15);(*MeV^2*)\n",
    "energy10 = 10;(*Energy in units of MeV*)\n",
    "omegaV = deltamsquare13/(2 energy10)(*MeV*);(*For 10 MeV neutrinos*)\n",
    "thetaV = ArcSin[Sqrt[0.093]/2]; (*almost 9 degrees*)\n",
    "thetamN =  ArcTan[Sin[2 thetaV]/(Cos[2 thetaV] - (lambdaN/omegaV)^2)]/2;\n",
    "phiN = 0;\n",
    "kN = 0.9999;\n",
    "aN = 0.1*lambdaN/OmegaMatter[thetamN, thetaV, omegaV];\n",
    "endpointN = 100000;\n",
    "```"
   ]
  },
  {
   "cell_type": "markdown",
   "metadata": {},
   "source": [
    "Drop in amplitude but not so much change in frequency because in this situation the $(n\\hat k-1)^2$ term dominates the expression of frequency."
   ]
  },
  {
   "cell_type": "markdown",
   "metadata": {},
   "source": [
    "![](assets/single-frequency-10-MSW.svg)"
   ]
  },
  {
   "cell_type": "markdown",
   "metadata": {},
   "source": [
    "![](assets/single-frequency-q-k-relation-10-MSW.svg)"
   ]
  },
  {
   "cell_type": "markdown",
   "metadata": {},
   "source": [
    "![](assets/resonance-required-fluctuation-10-MSW.svg)"
   ]
  },
  {
   "cell_type": "markdown",
   "metadata": {},
   "source": [
    "##### 20 MSW"
   ]
  },
  {
   "cell_type": "code",
   "execution_count": null,
   "metadata": {
    "collapsed": true
   },
   "outputs": [],
   "source": []
  },
  {
   "cell_type": "markdown",
   "metadata": {},
   "source": [
    "![](assets/single-frequency-20-MSW.svg)"
   ]
  },
  {
   "cell_type": "markdown",
   "metadata": {},
   "source": [
    "![](assets/single-frequency-q-k-relation-20-MSW.svg)"
   ]
  },
  {
   "cell_type": "markdown",
   "metadata": {},
   "source": [
    "![](assets/resonance-required-fluctuation-20-MSW.svg)"
   ]
  },
  {
   "cell_type": "markdown",
   "metadata": {
    "collapsed": true
   },
   "source": [
    "#### What are the changes due to background matter profile?"
   ]
  },
  {
   "cell_type": "markdown",
   "metadata": {},
   "source": [
    "![](assets/single-frequency-width-lambda.svg)\n",
    "\n",
    "> Parameters: $\\theta_{13}$, $\\delta m_{13}^2$, energy $E=10$MeV, perturbation amplitude $A=0.1\\lambda$. As a reference, MSW resonance is the red grid line."
   ]
  },
  {
   "cell_type": "markdown",
   "metadata": {
    "collapsed": true
   },
   "source": [
    "> **A Comment for this graph ## May 5 2016**\n",
    ">\n",
    "> The peak and dip are understood by the expression of width.\n",
    "> \n",
    "> $$\\hat B_n = \\hat k \\tan 2\\theta_{\\mathrm{m}} n J_n \\left(\\frac{\\hat A}{\\hat k} \\cos 2\\theta_{\\mathrm{m}}\\right).$$\n",
    "> \n",
    "> At MSW resonance, $\\cos 2\\theta_m = 0$. Meanwhile, \n",
    "> \n",
    "> 1. $J_0(0)=1$ and $\\tan 2\\theta_m$ is maximized;\n",
    "> 2. $J_n(0)=0$ for $n>1$ so that the dip actually goes to 0."
   ]
  },
  {
   "cell_type": "markdown",
   "metadata": {},
   "source": [
    "### May 4 2016"
   ]
  },
  {
   "cell_type": "markdown",
   "metadata": {},
   "source": [
    "If we are interested in a early stage of supernova explosion, the 2D simulations indicates that we could actually use a constant matter background potential as approximation."
   ]
  },
  {
   "cell_type": "markdown",
   "metadata": {},
   "source": [
    "What do Y Yang et al do to neutrino-neutrino interaction using RWA?\n",
    "\n",
    "* How exactly do they decompose $H_{I}$ into fourier components? Fourier decomposition of density matrix."
   ]
  },
  {
   "cell_type": "markdown",
   "metadata": {},
   "source": [
    "I should also treat the 2-frequency case."
   ]
  },
  {
   "cell_type": "markdown",
   "metadata": {
    "collapsed": true
   },
   "source": [
    "### May 5 2016"
   ]
  },
  {
   "cell_type": "markdown",
   "metadata": {},
   "source": [
    "I need a very general solver for any list input of the combinations of n's."
   ]
  },
  {
   "cell_type": "markdown",
   "metadata": {},
   "source": [
    "```\n",
    "#PSEUDO CODE HERE\n",
    "\n",
    "LIST_INPUT = ...\n",
    "\n",
    "\n",
    "```"
   ]
  }
 ],
 "metadata": {
  "kernelspec": {
   "display_name": "Python 2",
   "language": "python",
   "name": "python2"
  },
  "language_info": {
   "codemirror_mode": {
    "name": "ipython",
    "version": 2
   },
   "file_extension": ".py",
   "mimetype": "text/x-python",
   "name": "python",
   "nbconvert_exporter": "python",
   "pygments_lexer": "ipython2",
   "version": "2.7.10"
  }
 },
 "nbformat": 4,
 "nbformat_minor": 0
}

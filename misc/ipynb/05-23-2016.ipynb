{
 "cells": [
  {
   "cell_type": "code",
   "execution_count": null,
   "metadata": {
    "collapsed": true
   },
   "outputs": [],
   "source": []
  },
  {
   "cell_type": "code",
   "execution_count": null,
   "metadata": {
    "collapsed": true
   },
   "outputs": [],
   "source": []
  },
  {
   "cell_type": "markdown",
   "metadata": {},
   "source": [
    "## May 23 2016 to ~"
   ]
  },
  {
   "cell_type": "markdown",
   "metadata": {},
   "source": []
  },
  {
   "cell_type": "markdown",
   "metadata": {},
   "source": [
    "### May 23"
   ]
  },
  {
   "cell_type": "markdown",
   "metadata": {},
   "source": [
    "#### Reconstruct the desctruction effect."
   ]
  },
  {
   "cell_type": "markdown",
   "metadata": {},
   "source": [
    "An rough estimation,\n",
    "\n",
    "$$\n",
    "A(\\lambda)=A(\\lambda_{rms_estimation}) \\left( \\frac{\\lambda }{\\lambda_{rms_estimation}} \\right)^{5/3}\n",
    "$$\n",
    "\n",
    "Here we want to check the first resonance around the largest wavelength. To do that we have to calculate $\\omega_m$ under the background matter profile $\\lambda_0 = 0.5 \\lambda_{MSW}$,"
   ]
  },
  {
   "cell_type": "markdown",
   "metadata": {},
   "source": [
    "Test fail since the resonance that corresponds to 3000km matter fluction length is $90\\omega_m$ and for such a high resonance it is very hard to catch."
   ]
  },
  {
   "cell_type": "markdown",
   "metadata": {},
   "source": [
    "#### Selection of n's using two crit's"
   ]
  },
  {
   "cell_type": "markdown",
   "metadata": {},
   "source": [
    ": Q and oscillation wavelength"
   ]
  },
  {
   "cell_type": "markdown",
   "metadata": {},
   "source": [
    "![](assets/05-23-2016/two-freq-overal-comp.png)"
   ]
  },
  {
   "cell_type": "markdown",
   "metadata": {
    "collapsed": true
   },
   "source": [
    "### May 24"
   ]
  },
  {
   "cell_type": "markdown",
   "metadata": {},
   "source": [
    "To do\n",
    "\n",
    "1. Reproduce Patton & Kneller's result\n",
    "2. Using tow Rabi Hamiltonian to check the result we calculated up there."
   ]
  },
  {
   "cell_type": "markdown",
   "metadata": {},
   "source": [
    "### May 25"
   ]
  },
  {
   "cell_type": "markdown",
   "metadata": {},
   "source": [
    "Reproduce the effect using K. Patton's parameters\n",
    "$$\\lambda _0=0.5 \\lambda _{\\text{MSW}}$$\n",
    "$$\n",
    "A(\\lambda) =\\left(\\frac{\\lambda }{\\lambda _{\\text{rms}}}\\right){}^{5/3} A\\left(\\lambda _{\\text{rms}}\\right),\\lambda _{\\text{rms}}\\sim 1500\\text{km},A\\left(\\lambda _{\\text{rms}}\\right)=0.02 \\lambda _0\n",
    "$$\n",
    "\n",
    "\n",
    "```\n",
    "\n",
    "\n",
    "```\n",
    "\n",
    "![](assets/05-23-2016/reconstruct-kelly-using-two-freq-wavelength-vs-n.png)\n",
    "![](assets/05-23-2016/reconstruct-kelly-using-two-freq-single.png)\n",
    "![](assets/05-23-2016/reconstruct-kelly-using-two-freq-dual.png)"
   ]
  },
  {
   "cell_type": "markdown",
   "metadata": {},
   "source": [
    "Using two simpler hamiltonian to see this destruction effect:\n",
    "\n",
    "```\n",
    "gamma1 = 0.00088;\n",
    "gamma2 = 0.0095;\n",
    "omega1 = 0 + 1;\n",
    "omega2 = -0.05 + 1;\n",
    "initsys = {psi1[0], psi2[0]} == {1, 0};\n",
    "endpointsys = 10000;\n",
    "\n",
    "```\n",
    "\n",
    "[x] checked with the actual Hamiltonian\n",
    "\n",
    "\n",
    "![](assets/05-23-2016/resonance-destruction-and-two-rabi.png)\n",
    "\n",
    "as a comparison we have the actual system\n",
    "\n",
    "![](assets/05-23-2016/two-freq-overal-comp.png)"
   ]
  },
  {
   "cell_type": "markdown",
   "metadata": {},
   "source": [
    "BUT the system can not be solved analyticall, at least by me and mathematica."
   ]
  },
  {
   "cell_type": "markdown",
   "metadata": {},
   "source": [
    "### May 26"
   ]
  },
  {
   "cell_type": "markdown",
   "metadata": {},
   "source": [
    "Reading:\n",
    "\n",
    "* G. L. Fogli et al\n",
    "* T. K. Kuo et al"
   ]
  },
  {
   "cell_type": "markdown",
   "metadata": {
    "collapsed": true
   },
   "source": [
    "### May 27"
   ]
  },
  {
   "cell_type": "markdown",
   "metadata": {},
   "source": [
    "k1=0.5\n",
    "![](assets/05-23-2016/res-desct-small-range-k-0point5.png)"
   ]
  },
  {
   "cell_type": "code",
   "execution_count": null,
   "metadata": {
    "collapsed": true
   },
   "outputs": [],
   "source": []
  }
 ],
 "metadata": {
  "kernelspec": {
   "display_name": "Python 2",
   "language": "python",
   "name": "python2"
  },
  "language_info": {
   "codemirror_mode": {
    "name": "ipython",
    "version": 2
   },
   "file_extension": ".py",
   "mimetype": "text/x-python",
   "name": "python",
   "nbconvert_exporter": "python",
   "pygments_lexer": "ipython2",
   "version": "2.7.10"
  }
 },
 "nbformat": 4,
 "nbformat_minor": 0
}

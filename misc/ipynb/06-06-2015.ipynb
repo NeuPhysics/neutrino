{
 "cells": [
  {
   "cell_type": "markdown",
   "metadata": {},
   "source": [
    "## June 06 ~"
   ]
  },
  {
   "cell_type": "code",
   "execution_count": 1,
   "metadata": {
    "collapsed": true
   },
   "outputs": [],
   "source": [
    "%matplotlib inline\n",
    "%load_ext snakeviz\n",
    "import numpy as np\n",
    "from scipy.integrate import odeint\n",
    "from scipy.integrate import ode\n",
    "import matplotlib.pylab as plt"
   ]
  },
  {
   "cell_type": "markdown",
   "metadata": {},
   "source": [
    "### June 06"
   ]
  },
  {
   "cell_type": "markdown",
   "metadata": {},
   "source": [
    "1. Write the code to solve the system\n",
    "    1. Using scipy integrate\n"
   ]
  },
  {
   "cell_type": "markdown",
   "metadata": {},
   "source": [
    "For step size 1, 0.1, 0.01 all the same: but not right\n",
    "\n",
    "![](assets/06-06-2016/numerical-test.png)\n",
    "\n"
   ]
  },
  {
   "cell_type": "markdown",
   "metadata": {},
   "source": [
    "What I should have is\n",
    "![](assets/06-06-2016/numerical-test-0.png)"
   ]
  },
  {
   "cell_type": "markdown",
   "metadata": {},
   "source": [
    "### June 07"
   ]
  },
  {
   "cell_type": "markdown",
   "metadata": {},
   "source": [
    "Now I changed the Hamiltonian to the one we had exactly in MMA. And everything matches now."
   ]
  },
  {
   "cell_type": "markdown",
   "metadata": {},
   "source": [
    "![](assets/06-06-2016/single-frequency-probabilities-range-1e6.png)"
   ]
  },
  {
   "cell_type": "markdown",
   "metadata": {},
   "source": [
    "### June 08"
   ]
  },
  {
   "cell_type": "markdown",
   "metadata": {},
   "source": [
    "If the first mode plays a role and extends the oscillation wavelength to a much longer one, we expect the new wavelength to be arround $2.22934*10^8$, which is the oscillation wavelength for the first mode after we added in the new freq.."
   ]
  },
  {
   "cell_type": "markdown",
   "metadata": {},
   "source": [
    "What would we have for the two frequencies is\n",
    "\n",
    "![](assets/06-06-2016/resonance-destruction-two-freq-mma.png)"
   ]
  },
  {
   "cell_type": "markdown",
   "metadata": {},
   "source": [
    "![](assets/06-06-2016/two-frequencies-probabilities-range-1e4.png)"
   ]
  },
  {
   "cell_type": "markdown",
   "metadata": {},
   "source": [
    "I checked the hamiltonian 12 element\n",
    "\n",
    "![](assets/06-06-2016/hamiltonian-real-part.png)\n",
    "![](assets/06-06-2016/hamiltonian-imaginary-part.png)"
   ]
  },
  {
   "cell_type": "markdown",
   "metadata": {
    "collapsed": true
   },
   "source": [
    "py file ready to run. save data every few steps"
   ]
  },
  {
   "cell_type": "markdown",
   "metadata": {},
   "source": [
    "### June 09"
   ]
  },
  {
   "cell_type": "markdown",
   "metadata": {},
   "source": [
    "![](assets/06-06-2016/two-freq-range-1e7.png)\n",
    "\n",
    "![](assets/06-06-2016/two-freq-range-1e7-larger-savestep.png)"
   ]
  },
  {
   "cell_type": "markdown",
   "metadata": {
    "collapsed": true
   },
   "source": [
    "### June10"
   ]
  },
  {
   "cell_type": "markdown",
   "metadata": {},
   "source": [
    "code still running.\n",
    "\n",
    "1. reading\n",
    "2. write a js neutrino oscillation page?"
   ]
  },
  {
   "cell_type": "markdown",
   "metadata": {
    "collapsed": true
   },
   "source": [
    "![](assets/06-06-2016/two-freq-range-1e8.png)\n",
    "![](assets/06-06-2016/two-freq-range-1e8-0.png)"
   ]
  },
  {
   "cell_type": "markdown",
   "metadata": {},
   "source": [
    "The probability is still not conserved. Then it is questionable whether "
   ]
  },
  {
   "cell_type": "code",
   "execution_count": null,
   "metadata": {
    "collapsed": true
   },
   "outputs": [],
   "source": []
  }
 ],
 "metadata": {
  "kernelspec": {
   "display_name": "Python 2",
   "language": "python",
   "name": "python2"
  },
  "language_info": {
   "codemirror_mode": {
    "name": "ipython",
    "version": 2
   },
   "file_extension": ".py",
   "mimetype": "text/x-python",
   "name": "python",
   "nbconvert_exporter": "python",
   "pygments_lexer": "ipython2",
   "version": "2.7.11"
  }
 },
 "nbformat": 4,
 "nbformat_minor": 0
}

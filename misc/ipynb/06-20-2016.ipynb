{
 "cells": [
  {
   "cell_type": "markdown",
   "metadata": {},
   "source": [
    "## June 20 ~"
   ]
  },
  {
   "cell_type": "code",
   "execution_count": 9,
   "metadata": {
    "collapsed": false
   },
   "outputs": [],
   "source": [
    "# %%bash\n",
    "# tree assets/06-20-2016"
   ]
  },
  {
   "cell_type": "markdown",
   "metadata": {},
   "source": [
    "### June 20"
   ]
  },
  {
   "cell_type": "markdown",
   "metadata": {},
   "source": [
    "- [ ] Rewrite code using real diff eq solver\n",
    "- [ ] Write the iteraction by yourself\n",
    "\n",
    "~~I think the oscillations might still be there.~~"
   ]
  },
  {
   "cell_type": "markdown",
   "metadata": {
    "collapsed": true
   },
   "source": [
    "Using `odeint`, I have the following result, without changing any of the default parameters (tol using default)\n",
    "\n",
    "![](assets/06-20-2016/two-freq-real-ize-prob0-1000000-1.0.png)\n",
    "![](assets/06-20-2016/two-freq-real-ize-prob1-1000000-1.0.png)\n",
    "![](assets/06-20-2016/two-freq-real-ize-total-1000000-1.0.png)"
   ]
  },
  {
   "cell_type": "markdown",
   "metadata": {},
   "source": [
    "\n",
    "For a larger range\n",
    "\n",
    "![](assets/06-20-2016/two-freq-real-ize-prob0-10000000-1.0.png)\n",
    "\n",
    "![](assets/06-20-2016/two-freq-real-ize-total-10000000-1.0.png)"
   ]
  },
  {
   "cell_type": "markdown",
   "metadata": {
    "collapsed": true
   },
   "source": [
    "Just for comparison\n",
    "\n",
    "![](assets/06-20-2016/two-freq-real-ize-prob0-10000000-100.0.png)\n",
    "![](assets/06-20-2016/two-freq-real-ize-prob1-10000000-100.0.png)\n",
    "![](assets/06-20-2016/two-freq-real-ize-total-10000000-100.0.png)"
   ]
  },
  {
   "cell_type": "markdown",
   "metadata": {
    "collapsed": true
   },
   "source": [
    "With higher rtol?\n",
    "\n",
    "![](assets/06-20-2016/two-freq-real-ize-prob0-10000000-10.0.png)\n",
    "![](assets/06-20-2016/two-freq-real-ize-total-10000000-10.0.png)"
   ]
  },
  {
   "cell_type": "markdown",
   "metadata": {},
   "source": [
    "![](assets/06-20-2016/two-freq-real-ize-total-100000000-1.0-1e-10.png)"
   ]
  },
  {
   "cell_type": "markdown",
   "metadata": {},
   "source": [
    "1e8 range stepsize 100\n",
    "\n",
    "nohup: ignoring input\n",
    "Integration successful.\n",
    "[ 0.80085766  0.00363102  0.61007053 -0.00786364] 100000000.0\n",
    "\n",
    "\n",
    "![](assets/06-20-2016/two-freq-real-ize-prob0-100000000-100.0.png)\n",
    "![](assets/06-20-2016/two-freq-real-ize-total-100000000-100.0.png)"
   ]
  },
  {
   "cell_type": "markdown",
   "metadata": {},
   "source": [
    "### Jun 21"
   ]
  },
  {
   "cell_type": "markdown",
   "metadata": {},
   "source": [
    "two-freq-real-ize-eq-solver-1e6-stepsize-1-rtol-on.out\n",
    "```\n",
    "nohup: ignoring input\n",
    "Integration successful.\n",
    "[-0.9908992  -0.00179346 -0.13488972  0.00682482] 1000000.0\n",
    "step size is1.0\n",
    "rtol_req is1e-10\n",
    "```\n",
    "\n",
    "From files\n",
    "\n",
    "```\n",
    "two-freq-real-ize-xlin-1000000-1.0-1e-10.npy\n",
    "two-freq-real-ize-prob0-1000000-1.0-1e-10.npy\n",
    "two-freq-real-ize-prob1-1000000-1.0-1e-10.npy\n",
    "```\n",
    "\n",
    "![](assets/06-20-2016/two-freq-real-ize-total-1000000-1.0-1e-10.png)"
   ]
  },
  {
   "cell_type": "markdown",
   "metadata": {},
   "source": [
    "two-freq-real-ize-eq-solver-1e6-stepsize-10-rtol-on.out\n",
    "\n",
    "```\n",
    "nohup: ignoring input\n",
    "Integration successful.\n",
    "[-0.99089818 -0.00179584 -0.13489006  0.00682465] 1000000.0\n",
    "step size is10.0\n",
    "rtol_req is1e-09\n",
    "```\n",
    "\n",
    "two-freq-real-ize-xlin-1000000-10.0-1e-09.npy\n",
    "two-freq-real-ize-prob0-1000000-10.0-1e-09.npy\n",
    "two-freq-real-ize-prob1-1000000-10.0-1e-09.npy\n",
    "\n",
    "![](assets/06-20-2016/two-freq-real-ize-total-1000000-10.0-1e-09.png)"
   ]
  },
  {
   "cell_type": "markdown",
   "metadata": {},
   "source": [
    "How about a comparison\n",
    "\n",
    "![](assets/06-20-2016/two-freq-real-ize-total-1000000-step-vary-rtol-vary-comparison.png)\n",
    "![](assets/06-20-2016/two-freq-real-ize-total-1000000-step-1-rtol-vary-comparison.png)\n",
    "![](assets/06-20-2016/two-freq-real-ize-total-1000000-step-10-rtol-vary-comparison.png)\n",
    "![](assets/06-20-2016/two-freq-real-ize-total-1000000-step-100-rtol-vary-comparison.png)\n",
    "\n",
    "![](assets/06-20-2016/two-freq-real-ize-total-1000000-step-vary-rtol-1e-10-comparison.png)\n",
    "![](assets/06-20-2016/two-freq-real-ize-total-1000000-step-vary-rtol-1e-8-comparison.png)"
   ]
  },
  {
   "cell_type": "markdown",
   "metadata": {
    "collapsed": true
   },
   "source": [
    "WTH? Maybe the code is completely wrong?\n",
    "\n",
    "Check with `scipy.ode` code results\n",
    "\n",
    "![](assets/06-20-2016/compare-odeint-and-ode-prob0-range-1000.png)\n",
    "![](assets/06-20-2016/compare-odeint-and-ode-prob1-range-1000.png)\n",
    "\n",
    "\n",
    "![](assets/06-20-2016/compare-odeint-and-ode-prob0-range-10000.png)\n",
    "![](assets/06-20-2016/compare-odeint-and-ode-prob1-range-10000.png)\n",
    "\n",
    "\n",
    "![](assets/06-20-2016/compare-odeint-and-ode-prob0-range-100000.png)\n",
    "![](assets/06-20-2016/compare-odeint-and-ode-prob1-range-100000.png)"
   ]
  },
  {
   "cell_type": "markdown",
   "metadata": {},
   "source": [
    "can't really distinguish?\n",
    "\n",
    "![](assets/06-20-2016/compare-odeint-and-ode-prob1-range-10000-alt-style.png)"
   ]
  },
  {
   "cell_type": "markdown",
   "metadata": {
    "collapsed": true
   },
   "source": [
    "## June 22"
   ]
  },
  {
   "cell_type": "markdown",
   "metadata": {},
   "source": [
    "After a discussion with Prof. Duan, we think the problem that increasing the `rtol` doesn't work is that this calculation already reached the most precise result that can be reached using double.\n",
    "\n",
    "The figure\n",
    "![](assets/06-20-2016/two-freq-real-ize-total-1000000-step-vary-rtol-vary-comparison-inclue-1e-5.png)\n",
    "\n",
    "is a hint of this: **no accuracy inccrease with increasing rtol starting from 1e-8** but for significantly larger tol 1e-5 we do have a accuracy drop. This figure can not determine the exactly point of rtol that the accuracy is saturated but what is the point of that anyway.\n",
    "\n",
    "Just as a verification, the steps during such a calculation is of the same order of the range, proofs are\n",
    "\n",
    "![](assets/06-20-2016/two-freq-real-ize-total-1000000-step-10-step-size.png)\n",
    "![](assets/06-20-2016/two-freq-real-ize-total-1000000-step-10-accumulated-steps.png)\n",
    "\n",
    "Then we estimate the accumulated error would be\n",
    "\n",
    "$$\\sim 10^{-8(10)}\\times 10^{5}\\sim 10^{-3(5)}$$\n",
    "\n"
   ]
  },
  {
   "cell_type": "markdown",
   "metadata": {},
   "source": [
    "Now we need to use something more accurate: MATHEMATICA!\n",
    "\n",
    "Also IF the resonance is still there, on a range 1e6 would reveal this resonance.\n",
    "\n",
    "The default WorkingPrecision is \\$MachinePrecision=15.9546;\n",
    "\n",
    "\n",
    "**On a range 1e5**\n",
    "\n",
    "Using default is not very bad but not good enough. \n",
    "\n",
    "I tried 3\\$MachinePrecision, 2\\$MachinePrecision, and 1.5\\$MachinePrecision, all of them works EXTRAORDINARILY WELL."
   ]
  },
  {
   "cell_type": "markdown",
   "metadata": {},
   "source": [
    "![](assets/06-20-2016/mathematica-two-freq-total-prob-precision-MachinePrecision.png)\n",
    "![](assets/06-20-2016/mathematica-two-freq-total-prob-precision-2MachinePrecision.png)\n",
    "![](assets/06-20-2016/mma-two-freq-total-prob-precision-3MachinePrecision.png)"
   ]
  },
  {
   "cell_type": "markdown",
   "metadata": {},
   "source": [
    "![](assets/06-20-2016/mma-two-freq-transition-prob-1e5-workingprecision-MachinePrecision.png)\n",
    "![](assets/06-20-2016/mma-two-freq-transition-prob-1e5-workingprecision-2MachinePrecision.png)\n",
    "![](assets/06-20-2016/mma-two-freq-transition-prob-1e5-workingprecision-3MachinePrecision.png)\n"
   ]
  },
  {
   "cell_type": "markdown",
   "metadata": {},
   "source": [
    "![](assets/06-20-2016/mma-two-freq-survival-prob-1e5-workingprecision-MachinePrecision.png)\n",
    "![](assets/06-20-2016/mma-two-freq-survival-prob-1e5-workingprecision-2MachinePrecision.png)\n",
    "![](assets/06-20-2016/mma-two-freq-survival-prob-1e5-workingprecision-3MachinePrecision.png)"
   ]
  },
  {
   "cell_type": "markdown",
   "metadata": {
    "collapsed": true
   },
   "source": [
    "I also calculated 1e6 range\n",
    "\n",
    "**As a very important record, here is the final step!** Can be used as initial conditions for other calculations\n",
    "\n",
    "{1000000, -0.99083357467475482484211 - 0.134903755833413925113813 I}\n",
    "\n",
    "{1000000, -0.00179474435149809175828495 + 0.00682554900206841448406648 I}\n",
    "\n",
    "![](assets/06-20-2016/mma-1e6-total-1point5MachinePrecision.png)\n",
    "![](assets/06-20-2016/mma-1e6-transition-prob-1point5MachinePrecision.png)\n",
    "![](assets/06-20-2016/mma-1e6-survival-prob-1point5MachinePrecision.png)"
   ]
  },
  {
   "cell_type": "markdown",
   "metadata": {
    "collapsed": true
   },
   "source": [
    "### June 23"
   ]
  },
  {
   "cell_type": "markdown",
   "metadata": {},
   "source": [
    "![](assets/06-20-2016/parameter2/destruct-n-list-range-1e6-list-1-0-and-complete-numerical-comp.png)"
   ]
  },
  {
   "cell_type": "markdown",
   "metadata": {},
   "source": [
    "![](assets/06-20-2016/parameter2/destruct-n-list-range-1e6-list-1-0.png)\n",
    "\n",
    "adding another mode {4,0}\n",
    "\n",
    "![](assets/06-20-2016/parameter2/destruct-n-list-range-1e6-lists-1-0-4-0-transition-prob.png)\n",
    "\n",
    "Just to check whether the numerical is reliable\n",
    "\n",
    "![](assets/06-20-2016/parameter2/destruct-n-list-range-1e6-lists-1-0-4-0-total-prob.png)"
   ]
  },
  {
   "cell_type": "markdown",
   "metadata": {},
   "source": [
    "### June 24"
   ]
  },
  {
   "cell_type": "markdown",
   "metadata": {},
   "source": [
    "![](assets/06-20-2016/parameter2/destruct-n-list-range-1e6-lists-0-4-transition-prob.png)"
   ]
  },
  {
   "cell_type": "markdown",
   "metadata": {},
   "source": [
    "#### Conclusion\n",
    "\n",
    "1. **The second mode itself is far from resonance!**\n",
    "2. **The coefficient of the second mode {0,4} is almost five orders larger then the first mode! (This coefficient also determines the width, or wavelength)**\n"
   ]
  },
  {
   "cell_type": "markdown",
   "metadata": {},
   "source": [
    "Many different situations:\n",
    "\n",
    "1. The Larger Q Value modes has a long wavelength: then even there are short wavelength length modes, the coefficient will be much larger than the first mode. But it won't be very large since this is a multiplication of many Bessel's functions. These short wavelength modes in fact will probably have very small amplitude. Since in the Hamiltonian this term has much larger coefficient it will dominate."
   ]
  },
  {
   "cell_type": "code",
   "execution_count": null,
   "metadata": {
    "collapsed": true
   },
   "outputs": [],
   "source": []
  }
 ],
 "metadata": {
  "kernelspec": {
   "display_name": "Python 2",
   "language": "python",
   "name": "python2"
  },
  "language_info": {
   "codemirror_mode": {
    "name": "ipython",
    "version": 2
   },
   "file_extension": ".py",
   "mimetype": "text/x-python",
   "name": "python",
   "nbconvert_exporter": "python",
   "pygments_lexer": "ipython2",
   "version": "2.7.11"
  }
 },
 "nbformat": 4,
 "nbformat_minor": 0
}

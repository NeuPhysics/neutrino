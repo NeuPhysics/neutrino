{
 "cells": [
  {
   "cell_type": "markdown",
   "metadata": {},
   "source": [
    "## June 13 ~"
   ]
  },
  {
   "cell_type": "markdown",
   "metadata": {},
   "source": [
    "### June 13"
   ]
  },
  {
   "cell_type": "markdown",
   "metadata": {},
   "source": [
    "Result from [save-data-on-site-1e9.py](assets/06-13-2016/save-data-on-site-1e9.py)\n",
    "\n",
    "![](assets/06-13-2016/two-frequencies-probabilities-range-1e9.png)"
   ]
  },
  {
   "cell_type": "markdown",
   "metadata": {},
   "source": [
    "Result from script `two-freq-trans-prob-1e9.py` (click here to download: [two-freq-trans-prob-1e9.py](assets/06-13-2016/two-freq-trans-prob-1e9.py))"
   ]
  },
  {
   "cell_type": "markdown",
   "metadata": {},
   "source": [
    "![](assets/06-13-2016/two-frequencies-probabilities-range-1e9-detail.png)\n",
    "![](assets/06-13-2016/two-frequencies-probabilities-range-1e9-detail-2.png)"
   ]
  },
  {
   "cell_type": "markdown",
   "metadata": {},
   "source": [
    "**Now the big problem is that this script doesn't convserve probability.**"
   ]
  },
  {
   "cell_type": "markdown",
   "metadata": {
    "collapsed": true
   },
   "source": [
    "### June 16"
   ]
  },
  {
   "cell_type": "markdown",
   "metadata": {},
   "source": [
    "As I have been reading about Berry phase, I am wondering whether a periodic matter profile will generate a Berry phase.\n",
    "\n",
    "It should be because it is exactly the kind of Hamiltonian we would have for Berry phase.\n",
    "\n",
    "Now the question is, **since Berry phase is an observable, what would it be for neutrinos**?"
   ]
  },
  {
   "cell_type": "code",
   "execution_count": null,
   "metadata": {
    "collapsed": true
   },
   "outputs": [],
   "source": []
  }
 ],
 "metadata": {
  "kernelspec": {
   "display_name": "Python 2",
   "language": "python",
   "name": "python2"
  },
  "language_info": {
   "codemirror_mode": {
    "name": "ipython",
    "version": 2
   },
   "file_extension": ".py",
   "mimetype": "text/x-python",
   "name": "python",
   "nbconvert_exporter": "python",
   "pygments_lexer": "ipython2",
   "version": "2.7.11"
  }
 },
 "nbformat": 4,
 "nbformat_minor": 0
}

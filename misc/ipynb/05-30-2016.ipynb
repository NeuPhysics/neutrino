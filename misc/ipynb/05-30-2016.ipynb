{
 "cells": [
  {
   "cell_type": "markdown",
   "metadata": {},
   "source": [
    "## May 30 ~"
   ]
  },
  {
   "cell_type": "markdown",
   "metadata": {},
   "source": [
    "### May 30"
   ]
  },
  {
   "cell_type": "markdown",
   "metadata": {},
   "source": [
    "1. Write the general list selector\n",
    "    (But even for 6 frequencies the possible combinations are huge and it becomes very slow)"
   ]
  },
  {
   "cell_type": "markdown",
   "metadata": {},
   "source": [
    "Using up to 300 combinations\n",
    "\n",
    "![](assets/05-30-2016/n-list-selector-6-freq-300-combinations.png)"
   ]
  },
  {
   "cell_type": "markdown",
   "metadata": {},
   "source": [
    "![](assets/05-30-2016/n-list-selector-6-freq-300-combinations-osc-wavelength-100-system-size.png)"
   ]
  },
  {
   "cell_type": "markdown",
   "metadata": {
    "collapsed": true
   },
   "source": [
    "### June 02"
   ]
  },
  {
   "cell_type": "markdown",
   "metadata": {},
   "source": [
    "Rederive the result for linear background:\n",
    "\n",
    "1. The previous derivation was wrong; Now fixed.\n",
    "2. At leas the dimension is right.\n",
    "3. To check the result, I need to put in numbers and compare with FULL numerical. However, without an algrimth how am I supposed to do this?\n",
    "4. As a primary investigation, the result seems to be confined inside [0,1]. And the survival probability is very likely to be 0 at large distance, **for each n**."
   ]
  },
  {
   "cell_type": "markdown",
   "metadata": {},
   "source": [
    "**NOW THE QUESTION: SHOULD I SWITCH BASIS AND TRY THE INSTANTANEOUS MATTER BASIS INSTEAD OF FLAVOR BASIS?**\n",
    "\n",
    "THE GOOD THING ABOUT INSTANTANEOUS MATTER BASIS IS THAT WE CAN ACTUALLY HAVE SOME KIND OF BETER UNDERSTANDING OF THIS TRANSITION."
   ]
  },
  {
   "cell_type": "markdown",
   "metadata": {},
   "source": [
    "#### Shift Background Density -> Oscillation Wavelength\n",
    "\n",
    "How sensitive is this?\n",
    "\n",
    "1. E=20MeV\n",
    "2. using $\\delta m_{13}$ and $\\theta_{13}$\n",
    "\n",
    "The frame ticks of distance is label for $\\lambda_0=0.5\\lambda_{MSW}$. The difference due to this tiny shift in background density is very small.\n",
    "\n",
    "![](assets/05-30-2016/shit-background-density-change-osc-length.png)\n",
    "\n",
    "![](assets/05-30-2016/shit-background-density-065-change-osc-length.png)\n",
    "\n",
    "\n",
    "\n",
    "The change in osc length is tiny.\n",
    "\n",
    "As a comparison, if we add in another frequency with amplitude $0.065\\lambda_0$ will change the osc length of the most important mode $\\{1,0\\}$ which seems to have only contribution from the first frequency (which is not true) by a huge amount.\n",
    "\n",
    "1. one frequency only osc length is $9.8\\times 10^6\\mathrm{km}$;\n",
    "2. adding the new freq change $\\{1,0\\}$ mode osc length to $2.2\\times 10^8\\mathrm{km}$.\n",
    "\n",
    "**Such a difference can't be just from the shift of background density.**"
   ]
  },
  {
   "cell_type": "markdown",
   "metadata": {},
   "source": [
    "### June 03"
   ]
  },
  {
   "cell_type": "markdown",
   "metadata": {},
   "source": [
    "Write python code for numerical solution:\n",
    "\n",
    "1. Solve the system completely.\n",
    "2. Solve a system with a certain combination of n lists."
   ]
  },
  {
   "cell_type": "code",
   "execution_count": null,
   "metadata": {
    "collapsed": true
   },
   "outputs": [],
   "source": []
  }
 ],
 "metadata": {
  "kernelspec": {
   "display_name": "Python 2",
   "language": "python",
   "name": "python2"
  },
  "language_info": {
   "codemirror_mode": {
    "name": "ipython",
    "version": 2
   },
   "file_extension": ".py",
   "mimetype": "text/x-python",
   "name": "python",
   "nbconvert_exporter": "python",
   "pygments_lexer": "ipython2",
   "version": "2.7.10"
  }
 },
 "nbformat": 4,
 "nbformat_minor": 0
}

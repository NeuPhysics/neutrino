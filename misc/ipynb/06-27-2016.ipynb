{
 "cells": [
  {
   "cell_type": "markdown",
   "metadata": {},
   "source": [
    "## June 27 ~"
   ]
  },
  {
   "cell_type": "markdown",
   "metadata": {},
   "source": [
    "### June 27"
   ]
  },
  {
   "cell_type": "markdown",
   "metadata": {},
   "source": [
    "For the system\n",
    "\n",
    "$$\n",
    "i \\frac{d}{dx} \\Psi = H \\Psi,\n",
    "$$\n",
    "\n",
    "where\n",
    "\n",
    "$$\n",
    "H = \\begin{pmatrix}\n",
    "0 & h1 + h2 e^{i \\phi x} \\\\\n",
    "h1 + h2 e^{-i \\phi x} & 0\n",
    "\\end{pmatrix}\n",
    "$$\n",
    "\n",
    "I can't solve that even with first order Taylor expansion over $h1/h2\\ll 1$"
   ]
  },
  {
   "cell_type": "markdown",
   "metadata": {},
   "source": [
    "Using what Prof. Duan proposed, I could explain part of the reason why it will be destroyed. Please check the `researching notes`."
   ]
  },
  {
   "cell_type": "markdown",
   "metadata": {
    "collapsed": true
   },
   "source": [
    "### June 28"
   ]
  },
  {
   "cell_type": "markdown",
   "metadata": {},
   "source": [
    "What to do?\n",
    "\n",
    "1. Recalculate the destruction phenomena using new parameters"
   ]
  },
  {
   "cell_type": "markdown",
   "metadata": {},
   "source": [
    "![](assets/06-27-2016/second-freq-as-bg-varying-ration-k2-A2.png)"
   ]
  },
  {
   "cell_type": "markdown",
   "metadata": {},
   "source": [
    "![](assets/06-27-2016/second-freq-as-bg-1-divided-10-10-20-30-100-1000-10000-matter-density.png)"
   ]
  },
  {
   "cell_type": "markdown",
   "metadata": {},
   "source": [
    "![](assets/06-27-2016/second-freq-as-bg-1-divided-10-10-20-30-100-1000-10000-log.png)\n",
    "![](assets/06-27-2016/second-freq-as-bg-1-divided-10-10-20-30-100-1000-log.png)\n",
    "![](assets/06-27-2016/second-freq-as-bg-1-divided-10-10-20-30.png)\n",
    "![](assets/06-27-2016/second-freq-as-bg-1-divided-10-100-1000.png)\n",
    "![](assets/06-27-2016/second-freq-as-bg-1-divided-10-1000.png)"
   ]
  },
  {
   "cell_type": "markdown",
   "metadata": {},
   "source": [
    "### June 29"
   ]
  },
  {
   "cell_type": "markdown",
   "metadata": {},
   "source": [
    "The question is then, will this new frequency actually destroy the \n",
    "\n",
    "![](assets/06-27-2016/second-freq-as-bg-1-divided-10-10-20-30-100-1000-10000-full-numerical.png)"
   ]
  },
  {
   "cell_type": "markdown",
   "metadata": {},
   "source": [
    "**All the dashed lines ( {10} mode) in the following GRAPHES ARE WRONG!!! I FED IN `thetaV` instead of `thetamV`**\n",
    "![](assets/06-27-2016/second-freq-as-bg-1-d-10-1-d-6000-1-d-7000-100-full-numerical-with-10-mode.png)\n",
    "![](assets/06-27-2016/second-freq-as-bg-1-d-10-1-d-6000-1-d-7000-1-d-10000-100-full-numerical-with-10-mode.png)\n",
    "![](assets/06-27-2016/second-freq-as-bg-1-d-10-1-d-6000-1-d-7000-1-d-10000-1000-full-numerical-with-10-mode.png)\n"
   ]
  },
  {
   "cell_type": "markdown",
   "metadata": {
    "collapsed": true
   },
   "source": [
    "### June 30"
   ]
  },
  {
   "cell_type": "markdown",
   "metadata": {},
   "source": [
    "**I fixed a bug in the program and the dashed lines ({10} mode) should be fine now**"
   ]
  },
  {
   "cell_type": "markdown",
   "metadata": {},
   "source": [
    "Some important numbers\n",
    "\n",
    "```\n",
    "widthNList[{1}, onekListKK, oneaListKK, onephiListKK, thetamV] = 3.46135*10^-6\n",
    "widthNList[{1}, onekListKK, oneaListKK, onephiListKK, thetamV]*10 = 0.0000346135\n",
    "twoaListKK[[1]] = 0.0000357347\n",
    "\n",
    "```"
   ]
  },
  {
   "cell_type": "markdown",
   "metadata": {},
   "source": [
    "The gridlines are the zero points of the second matter profile"
   ]
  },
  {
   "cell_type": "markdown",
   "metadata": {},
   "source": [
    "![](assets/06-27-2016/second-freq-as-bg-1-d-10-1-d-1000-1-d-10000-1-d-200000-1000-full-numerical-with-10-mode-with-gridlines.png)\n"
   ]
  },
  {
   "cell_type": "markdown",
   "metadata": {},
   "source": [
    "![](assets/06-27-2016/second-freq-as-bg-1-d-10-1-d-1000-1-d-10000-1-d-200000-1000-full-numerical-with-10-mode-with-gridlines-2.png)"
   ]
  },
  {
   "cell_type": "markdown",
   "metadata": {},
   "source": [
    "![](assets/06-27-2016/second-freq-as-bg-1-d-10-1-d-5000-1-d-7000-1-d-10000-100-full-numerical-with-10-mode-gridlines.png)\n"
   ]
  },
  {
   "cell_type": "markdown",
   "metadata": {},
   "source": [
    "\n",
    "![](assets/06-27-2016/second-freq-as-bg-1-d-10-1-d-5000-1-d-7000-1-d-10000-100-full-numerical-with-10-mode-gridlines-2.png)\n"
   ]
  },
  {
   "cell_type": "markdown",
   "metadata": {},
   "source": [
    "![](assets/06-27-2016/second-freq-as-bg-1-d-10-1-d-5000-1-d-7000-1-d-10000-100-full-numerical-with-10-mode-gridlines-3.png)"
   ]
  },
  {
   "cell_type": "markdown",
   "metadata": {},
   "source": [
    "If we have a much larger $A_2$\n",
    "\n",
    "![](assets/06-27-2016/second-freq-as-bg-1-d-10-1-d-1000-1-d-10000-1-d-200000-10000-full-numerical-with-10-mode-with-gridlines.png)\n",
    "\n",
    "\n",
    "![](assets/06-27-2016/second-freq-as-bg-1-d-10-1-d-1000-1-d-10000-1-d-200000-10000-full-numerical-with-10-mode-with-gridlines-2.png)"
   ]
  },
  {
   "cell_type": "markdown",
   "metadata": {},
   "source": [
    "#### Some numerical verification"
   ]
  },
  {
   "cell_type": "markdown",
   "metadata": {},
   "source": [
    "The total probability is fine"
   ]
  },
  {
   "cell_type": "markdown",
   "metadata": {},
   "source": [
    "![](assets/06-27-2016/second-freq-as-bg-1-d-10-1-d-1000-1-d-10000-1-d-200000-1000-full-numerical-with-10-mode-total-prob.png)"
   ]
  },
  {
   "cell_type": "markdown",
   "metadata": {},
   "source": [
    "Just to verify that the calculation is true from the numerical point of view."
   ]
  },
  {
   "cell_type": "markdown",
   "metadata": {},
   "source": [
    "![](assets/06-27-2016/second-freq-as-bg-1-d-10-1-d-200000-1000-full-numerical-with-10-mode-small-range-1.5-machineprecision.png)\n",
    "![](assets/06-27-2016/second-freq-as-bg-1-d-10-1-d-200000-1000-full-numerical-with-10-mode-small-range-total-prob-1.5-machineprecision.png)"
   ]
  }
 ],
 "metadata": {
  "hide_input": false,
  "kernelspec": {
   "display_name": "Python 2",
   "language": "python",
   "name": "python2"
  },
  "language_info": {
   "codemirror_mode": {
    "name": "ipython",
    "version": 2
   },
   "file_extension": ".py",
   "mimetype": "text/x-python",
   "name": "python",
   "nbconvert_exporter": "python",
   "pygments_lexer": "ipython2",
   "version": "2.7.12"
  },
  "toc": {
   "toc_cell": false,
   "toc_number_sections": true,
   "toc_threshold": 6,
   "toc_window_display": false
  }
 },
 "nbformat": 4,
 "nbformat_minor": 0
}

{
 "cells": [
  {
   "cell_type": "markdown",
   "metadata": {},
   "source": [
    "## 07-05-2016 ~"
   ]
  },
  {
   "cell_type": "code",
   "execution_count": 3,
   "metadata": {
    "collapsed": false
   },
   "outputs": [
    {
     "name": "stdout",
     "output_type": "stream",
     "text": [
      "assets/07-05-2016\r\n",
      "└── test-numerical-and-analytical-modes-results.png\r\n",
      "\r\n",
      "0 directories, 1 file\r\n"
     ]
    }
   ],
   "source": [
    "!tree assets/07-05-2016"
   ]
  },
  {
   "cell_type": "markdown",
   "metadata": {},
   "source": [
    "### 07-05-2016"
   ]
  },
  {
   "cell_type": "markdown",
   "metadata": {},
   "source": [
    "From what I have tested, numerical and analytical results are the same and the transition probability is indeed very sensitive to the amplitudes if $\\frac{A}{k}\\cos(2\\theta_m)$ is very close to zero points of Bessel function.\n",
    "\n",
    "![](assets/07-05-2016/test-numerical-and-analytical-modes-results.png)"
   ]
  },
  {
   "cell_type": "markdown",
   "metadata": {},
   "source": [
    "For $A_2=1000\\lvert B_1\\rvert$ and $A_2=1001\\lvert B_1\\rvert$\n",
    "\n",
    "```\n",
    "In[877]:= Table[{twoaListKK3NumLimit[[1]]/\n",
    "    twokListKK3NumLimit[[1]] Cos[2 thetamV], \n",
    "  twoaListKK3NumLimit[[2, i]]/twokListKK3NumLimit[[2, i]] Cos[\n",
    "    2 thetamV]},\n",
    " {i, 1, Length@twokListKK3NumLimit[[2]]}]\n",
    "\n",
    "Table[{BesselJ[1, \n",
    "   twoaListKK3NumLimit[[1]]/twokListKK3NumLimit[[1]] Cos[2 thetamV]], \n",
    "  BesselJ[0, \n",
    "   twoaListKK3NumLimit[[2, i]]/twokListKK3NumLimit[[2, i]] Cos[\n",
    "     2 thetamV]]},\n",
    " {i, 1, Length@twokListKK3NumLimit[[2]]}]\n",
    "\n",
    "Table[widthNList[{1, 0}, {twokListKK3NumLimit[[1]], \n",
    "   twokListKK3NumLimit[[2, i]]}, {twoaListKK3NumLimit[[1]], \n",
    "   twoaListKK3NumLimit[[2, i]]}, twophiList, thetamV],\n",
    " {i, 1, Length@twokListKK3NumLimit[[2]]}]\n",
    "\n",
    "Out[877]= {{0.0000329435, 0.0638197}, {0.0000329435, \n",
    "  0.0638835}, {0.0000329435, 0.638197}}\n",
    "\n",
    "Out[878]= {{0.0000164718, 0.998982}, {0.0000164718, \n",
    "  0.99898}, {0.0000164718, 0.900739}}\n",
    "\n",
    "Out[879]= {6.91564*10^-6, 6.91563*10^-6, 6.23554*10^-6}\n",
    "\n",
    "```\n",
    "\n",
    "\n",
    "![](assets/07-05-2016/test-numerical-and-analytical-modes-results-amp-1000-and-1001.png)"
   ]
  },
  {
   "cell_type": "markdown",
   "metadata": {},
   "source": [
    "We use $A_2=1000B_1$, $A_2=100B_1$, $A_2=10000B_1$, and $k_2=k_1/(3\\pi)$.\n",
    "\n",
    "The widths of {1,0} mode for each set of parameters are\n",
    "\n",
    "```\n",
    "6.91643*10^-6, 6.92263*10^-6, 6.31057*10^-6\n",
    "```\n",
    "\n",
    "The width for {1,0}, {0,1}, {0,2} modes are\n",
    "\n",
    "```\n",
    "6.92263*10^-6\t0.000134109\t4.03324*10^-7\n",
    "6.91643*10^-6\t0.00134049\t0.0000403203\n",
    "6.31057*10^-6\t0.0128135\t0.00391302\n",
    "```\n",
    "\n",
    "using table\n",
    "\n",
    "|       | 100B1 | 1000B1 | 10000B1 |\n",
    "|-------|-------|--------|---------|\n",
    "| {1,0} |  6.92263 * 10^-6|\t0.000134109 |\t4.03324 * 10^-7 |\n",
    "| {0,1} |  6.91643 * 10^-6 |\t0.00134049 |\t0.0000403203 |\n",
    "| {0,2} |   6.31057 * 10^-6 |\t0.0128135 |\t0.00391302 |\n",
    "\n",
    "\n",
    "\n",
    "Compare with only {1,0} mode\n",
    "\n",
    "![](assets/07-05-2016/test-numerical-and-analytical-modes-results-amp-1000-100-10000.png)\n",
    "\n",
    "Compare with {1,0}+{0,1}+{0,-1} modes\n",
    "\n",
    "![](assets/07-05-2016/test-numerical-and-analytical-modes-results-amp-1000-100-10000-more-modes.png)"
   ]
  },
  {
   "cell_type": "markdown",
   "metadata": {},
   "source": [
    "#### Math\n",
    "\n",
    "Fall back to the original Rabi oscillation form\n",
    "\n",
    "For a single mode,\n",
    "\n",
    "$$\n",
    "H = -\\frac{\\omega_m}{2}\\sigma_3 - \\frac{1}{2} \\begin{pmatrix}0 & M_1 \\\\ M_1^ * & 0\\end{pmatrix},\n",
    "$$\n",
    "\n",
    "where $M_1 = B_{\\{n_i\\}} e^{i(n_i k_i - 1) x}$.\n",
    "\n",
    "Using Pauli matrices,\n",
    "\n",
    "$$\n",
    "H = -\\frac{\\omega_m}{2}\\sigma_3 - \\frac{M_{1R}}{2}\\sigma_1 + \\frac{M_{1I}}{2}\\sigma_2.\n",
    "$$\n",
    "\n",
    "\n",
    "Since $B_{\\{n_i\\}}$ is either real or pure imaginary, we can always think of the Hamiltonian as a component in $z$ direction and a rotation component in xy plane.\n",
    "\n",
    "For two modes,\n",
    "\n",
    "$$\n",
    "H = -\\frac{\\omega_m}{2}\\sigma_3 - \\frac{M_{1R}+M_{2R}}{2}\\sigma_1 + \\frac{M_{1I}+M_{2I}}{2}\\sigma_2,\n",
    "$$\n",
    "\n",
    "which has two rotating components in xy plane. When the two components reach a total length of the resonance requirement, resonance can still happen, for a moment. (**NEEDS VERIFICATION: MAYBE CALCULATE THE TOTAL LENGTH AND FIND OUT THE POINTS OF RESONANCE THEN COMPARE WITH FULL NUMERICAL CALCULATION.**)"
   ]
  },
  {
   "cell_type": "markdown",
   "metadata": {},
   "source": [
    "### July 07"
   ]
  },
  {
   "cell_type": "markdown",
   "metadata": {},
   "source": [
    "![](assets/07-05-2016/two-frequency-vs-removing-diagonal-of-large-wavelength-perturbation.png)\n",
    "![](assets/07-05-2016/two-frequency-vs-removing-diagonal-of-large-wavelength-perturbation-total-prob.png)"
   ]
  },
  {
   "cell_type": "markdown",
   "metadata": {},
   "source": [
    "![](assets/07-05-2016/two-frequency-vs-removing-diagonal-of-large-wavelength-perturbation-larger-A2.png)\n",
    "![](assets/07-05-2016/two-frequency-vs-removing-diagonal-of-large-wavelength-perturbation-larger-A2-total-prob.png)\n"
   ]
  },
  {
   "cell_type": "code",
   "execution_count": null,
   "metadata": {
    "collapsed": true
   },
   "outputs": [],
   "source": []
  }
 ],
 "metadata": {
  "kernelspec": {
   "display_name": "Python 2",
   "language": "python",
   "name": "python2"
  },
  "language_info": {
   "codemirror_mode": {
    "name": "ipython",
    "version": 2
   },
   "file_extension": ".py",
   "mimetype": "text/x-python",
   "name": "python",
   "nbconvert_exporter": "python",
   "pygments_lexer": "ipython2",
   "version": "2.7.11"
  }
 },
 "nbformat": 4,
 "nbformat_minor": 0
}
